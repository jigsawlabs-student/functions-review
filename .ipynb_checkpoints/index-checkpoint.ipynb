{
 "cells": [
  {
   "cell_type": "markdown",
   "id": "f892f4df-8008-447f-93fd-53813e77d27c",
   "metadata": {},
   "source": [
    "# Functions Review"
   ]
  },
  {
   "cell_type": "markdown",
   "id": "a325382d-8e63-4985-8ec3-441a6d95fdd6",
   "metadata": {},
   "source": [
    "The purpose of functions is to create a degree of encapsulation.  \n",
    "\n",
    "For example, think of an IPhone.  When you turn on your phone, the system needs to bootup, it takes you to the login screen, and then wait for you to enter your password.  As you might imagine there's a lot that occurs under the hood.\n",
    "\n",
    "But all you, as the user need to know is that if you press the on button, the login screen pops up.  Functions work in a similar way.  They allow you to simply call a procedure and get a return value.  \n",
    "\n",
    "For example, let's see a function that pulls our list of countries from Wikipedia, and returns a list of dictionaries of those countries."
   ]
  },
  {
   "cell_type": "markdown",
   "id": "6ac40117-0b66-47e2-9cae-bba4ccc27765",
   "metadata": {},
   "source": [
    "### Seeing a function"
   ]
  },
  {
   "cell_type": "markdown",
   "id": "cc7cb95f-44c2-4998-afd7-b8be8ec26a00",
   "metadata": {},
   "source": [
    "> Let's say we have a function below called `most_populous_cities`.  \n",
    "\n",
    "For now, don't even look at the body of the function.  Instead we'll just call the function."
   ]
  },
  {
   "cell_type": "markdown",
   "id": "fd0dff88-e9d6-486b-82a1-2ede94400503",
   "metadata": {},
   "source": [
    "> Press shift + return below, but don't look at the body of the function."
   ]
  },
  {
   "cell_type": "code",
   "execution_count": 14,
   "id": "f6204510-146c-4278-801d-8e4400e4612d",
   "metadata": {},
   "outputs": [],
   "source": [
    "import pandas as pd\n",
    "def most_populous_cities():\n",
    "    url = \"https://simple.wikipedia.org/wiki/List_of_United_States_cities_by_population\"\n",
    "    dfs = pd.read_html(url)\n",
    "    cities_df = dfs[2]\n",
    "    cities = cities_df.to_dict('records')\n",
    "    return cities "
   ]
  },
  {
   "cell_type": "markdown",
   "id": "199fe43c-c3f0-453e-8d0f-463ff0c3de80",
   "metadata": {},
   "source": [
    "Now let's call the function below and assign the output to the variable `collected_cities`."
   ]
  },
  {
   "cell_type": "code",
   "execution_count": 19,
   "id": "aa73a244-278d-40e6-8249-d3626aefcd2c",
   "metadata": {},
   "outputs": [],
   "source": [
    "collected_cities = most_populous_cities()"
   ]
  },
  {
   "cell_type": "markdown",
   "id": "26be8774-62ff-47fd-8637-b3bb0e67d697",
   "metadata": {},
   "source": [
    "> Scroll down."
   ]
  },
  {
   "cell_type": "code",
   "execution_count": 20,
   "id": "e2e06c5f-1195-4828-ad68-2af8f14b2545",
   "metadata": {},
   "outputs": [
    {
     "data": {
      "text/plain": [
       "[{'2017rank': 1,\n",
       "  'City': 'New York[3]',\n",
       "  'State': 'New York',\n",
       "  '2017estimate': 8622698,\n",
       "  '2010Census': 8175133,\n",
       "  'Change': '+5.47%',\n",
       "  '2016 land area': '301.5\\xa0sq\\xa0mi',\n",
       "  '2016 land area.1': '780.9\\xa0km2',\n",
       "  '2016 population density': '28,317/sq\\xa0mi',\n",
       "  '2016 population density.1': '10,933/km2',\n",
       "  'Location': '.mw-parser-output .geo-default,.mw-parser-output .geo-dms,.mw-parser-output .geo-dec{display:inline}.mw-parser-output .geo-nondefault,.mw-parser-output .geo-multi-punct{display:none}.mw-parser-output .longitude,.mw-parser-output .latitude{white-space:nowrap}40°39′49″N 73°56′19″W\\ufeff / \\ufeff40.6635°N 73.9387°W'},\n",
       " {'2017rank': 2,\n",
       "  'City': 'Los Angeles',\n",
       "  'State': 'California',\n",
       "  '2017estimate': 3999759,\n",
       "  '2010Census': 3792621,\n",
       "  'Change': '+5.46%',\n",
       "  '2016 land area': '468.7\\xa0sq\\xa0mi',\n",
       "  '2016 land area.1': '1,213.9\\xa0km2',\n",
       "  '2016 population density': '8,484/sq\\xa0mi',\n",
       "  '2016 population density.1': '3,276/km2',\n",
       "  'Location': '34°01′10″N 118°24′39″W\\ufeff / \\ufeff34.0194°N 118.4108°W'}]"
      ]
     },
     "execution_count": 20,
     "metadata": {},
     "output_type": "execute_result"
    }
   ],
   "source": [
    "collected_cities[:2]"
   ]
  },
  {
   "cell_type": "markdown",
   "id": "e8e3fff4-783e-4815-a06d-5b820073d86d",
   "metadata": {},
   "source": [
    "So what you can see from the code above, is that we were able to call the function `most_populous_cities()` and it returned a list of dictionaries which we assigned to `collected_cities`."
   ]
  },
  {
   "cell_type": "code",
   "execution_count": 21,
   "id": "6b0372e5-5e62-4039-8b1f-82d54a6e35e1",
   "metadata": {},
   "outputs": [],
   "source": [
    "collected_cities = most_populous_cities()"
   ]
  },
  {
   "cell_type": "markdown",
   "id": "97a4eb9b-e654-4a85-a8ec-afff29c975c9",
   "metadata": {},
   "source": [
    "Just like the pressing the on button on the iphone, we don't really need to know what occurs under the hood to turn on the phone.  Instead we just call the most `most_populous_cities()` function, and get back a list of cities."
   ]
  },
  {
   "cell_type": "markdown",
   "id": "3743fbdc-663b-4b1b-97b9-eb8138af8a19",
   "metadata": {},
   "source": [
    "In fact by default, functions will prevent you from accessing anything defined in the function.  For example let's take another look at the `most_populous_cities` function below."
   ]
  },
  {
   "cell_type": "code",
   "execution_count": null,
   "id": "75a4287e-40d3-4aaf-a59e-2c44da874e95",
   "metadata": {},
   "outputs": [],
   "source": [
    "def most_populous_cities():\n",
    "    url = \"https://simple.wikipedia.org/wiki/List_of_United_States_cities_by_population\"\n",
    "    dfs = pd.read_html(url)\n",
    "    cities_df = dfs[2]\n",
    "    cities = cities_df.to_dict('records')\n",
    "    return cities"
   ]
  },
  {
   "cell_type": "markdown",
   "id": "3c889f61-b27c-4a01-a255-6971dfab62f8",
   "metadata": {},
   "source": [
    "If we try to access any of the variables that are defined inside of the function, they are unavailable to us."
   ]
  },
  {
   "cell_type": "code",
   "execution_count": 22,
   "id": "58707688-ea83-4cd5-98c8-f6b7503ca78b",
   "metadata": {},
   "outputs": [
    {
     "ename": "NameError",
     "evalue": "name 'url' is not defined",
     "output_type": "error",
     "traceback": [
      "\u001b[0;31m---------------------------------------------------------------------------\u001b[0m",
      "\u001b[0;31mNameError\u001b[0m                                 Traceback (most recent call last)",
      "\u001b[0;32m<ipython-input-22-5446fb31b66c>\u001b[0m in \u001b[0;36m<module>\u001b[0;34m\u001b[0m\n\u001b[0;32m----> 1\u001b[0;31m \u001b[0murl\u001b[0m\u001b[0;34m\u001b[0m\u001b[0;34m\u001b[0m\u001b[0m\n\u001b[0m",
      "\u001b[0;31mNameError\u001b[0m: name 'url' is not defined"
     ]
    }
   ],
   "source": [
    "url"
   ]
  },
  {
   "cell_type": "markdown",
   "id": "cd327541-54d5-49c6-9064-818ade2b0ab4",
   "metadata": {},
   "source": [
    "Any variable defined in a function, is only available from within that function.  This is why we access `url` in line two of the function, but not anywhere else in our colab.  This is encapsulation by the function.  The point is that, you the programmer shouldn't be exposed to the underlying procedure of the function by default, just like you don't need to open up an iphone to see how it works under the hood.  "
   ]
  },
  {
   "cell_type": "markdown",
   "id": "c54c0bef-0c2a-4ac8-8adf-14e32135b740",
   "metadata": {},
   "source": [
    "But if we encapsulted *everything* in a function, we could not share it's output with the rest of our program.  For this reason, we use `return` to specify that this is the output of our function.  \n",
    "\n",
    "So above, we return the variable cities, our list of cities.  This is the only thing *returned* to us when we call a function.  \n",
    "\n",
    "> Just like the only thing returned to us when we press the on button is the login screen.  The rest of the procedure to get there, turning on the phone, booting up the phone, is hidden from us.  We just need to see the final output."
   ]
  },
  {
   "cell_type": "markdown",
   "id": "ae5d0040-7726-4701-ae6f-f3f262707592",
   "metadata": {},
   "source": [
    "Uncomment and call `most_populous_cities`."
   ]
  },
  {
   "cell_type": "code",
   "execution_count": 24,
   "id": "b24d12de-43ab-424e-b10c-dde735543e42",
   "metadata": {},
   "outputs": [],
   "source": [
    "# most_populous_cities()[:2]"
   ]
  },
  {
   "cell_type": "markdown",
   "id": "ad9f5215-b229-488a-9782-1793ca3a8aa7",
   "metadata": {},
   "source": [
    "I like to think of a function as a dungeon and as a return value of throwing something over the walls of the dungeon.  So all of the variables inside of our function, `url`, `dfs` are trapped inside of the dungeon.  But we throw the `cities` over the wall, and assign them to the variable `collected_cities`."
   ]
  },
  {
   "cell_type": "code",
   "execution_count": 25,
   "id": "0ed05c01-4e26-463c-a5d0-ed833eb25af2",
   "metadata": {},
   "outputs": [],
   "source": [
    "collected_cities = most_populous_cities()"
   ]
  },
  {
   "cell_type": "markdown",
   "id": "d0e3e4c1-df54-44d2-97e4-bbfca2f824d3",
   "metadata": {},
   "source": [
    "Notice that if we have a function but there is no return value, that our function returns nothing."
   ]
  },
  {
   "cell_type": "code",
   "execution_count": 26,
   "id": "1171ff18-06ed-41d9-b6c2-70eba0d22c1d",
   "metadata": {},
   "outputs": [],
   "source": [
    "def say_greeting():\n",
    "    greeting = 'hello world'"
   ]
  },
  {
   "cell_type": "code",
   "execution_count": 27,
   "id": "3d004955-64e0-4a25-920a-0b64dc6d4f71",
   "metadata": {},
   "outputs": [],
   "source": [
    "say_greeting()"
   ]
  },
  {
   "cell_type": "markdown",
   "id": "eb97c247-d72e-475a-84df-c7e67612a2f0",
   "metadata": {},
   "source": [
    "> Fix the function above so that `'hello world'` is returned from the function."
   ]
  },
  {
   "cell_type": "code",
   "execution_count": null,
   "id": "596e002f-ab55-4c8c-bad6-b2f65df0ce3b",
   "metadata": {},
   "outputs": [],
   "source": []
  }
 ],
 "metadata": {
  "kernelspec": {
   "display_name": "Python 3",
   "language": "python",
   "name": "python3"
  },
  "language_info": {
   "codemirror_mode": {
    "name": "ipython",
    "version": 3
   },
   "file_extension": ".py",
   "mimetype": "text/x-python",
   "name": "python",
   "nbconvert_exporter": "python",
   "pygments_lexer": "ipython3",
   "version": "3.8.8"
  }
 },
 "nbformat": 4,
 "nbformat_minor": 5
}
